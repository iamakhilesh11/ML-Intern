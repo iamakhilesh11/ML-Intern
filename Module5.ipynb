{
 "cells": [
  {
   "cell_type": "code",
   "execution_count": 1,
   "metadata": {},
   "outputs": [
    {
     "ename": "ModuleNotFoundError",
     "evalue": "No module named 'skopt'",
     "output_type": "error",
     "traceback": [
      "\u001b[1;31m---------------------------------------------------------------------------\u001b[0m",
      "\u001b[1;31mModuleNotFoundError\u001b[0m                       Traceback (most recent call last)",
      "\u001b[1;32m<ipython-input-1-c72dc1a8b874>\u001b[0m in \u001b[0;36m<module>\u001b[1;34m\u001b[0m\n\u001b[0;32m      8\u001b[0m \u001b[1;32mimport\u001b[0m \u001b[0mglob\u001b[0m\u001b[1;33m\u001b[0m\u001b[1;33m\u001b[0m\u001b[0m\n\u001b[0;32m      9\u001b[0m \u001b[1;32mimport\u001b[0m \u001b[0mrandom\u001b[0m\u001b[1;33m\u001b[0m\u001b[1;33m\u001b[0m\u001b[0m\n\u001b[1;32m---> 10\u001b[1;33m \u001b[1;32mimport\u001b[0m \u001b[0mskopt\u001b[0m\u001b[1;33m\u001b[0m\u001b[1;33m\u001b[0m\u001b[0m\n\u001b[0m",
      "\u001b[1;31mModuleNotFoundError\u001b[0m: No module named 'skopt'"
     ]
    }
   ],
   "source": [
    "import pandas as pd\n",
    "import numpy as np\n",
    "from pandas import Series, DataFrame\n",
    "import seaborn as sns\n",
    "import matplotlib.pyplot as plt\n",
    "import os\n",
    "import re\n",
    "import glob\n",
    "import random\n",
    "import skopt"
   ]
  },
  {
   "cell_type": "code",
   "execution_count": 15,
   "metadata": {},
   "outputs": [
    {
     "data": {
      "text/html": [
       "<div>\n",
       "<style scoped>\n",
       "    .dataframe tbody tr th:only-of-type {\n",
       "        vertical-align: middle;\n",
       "    }\n",
       "\n",
       "    .dataframe tbody tr th {\n",
       "        vertical-align: top;\n",
       "    }\n",
       "\n",
       "    .dataframe thead th {\n",
       "        text-align: right;\n",
       "    }\n",
       "</style>\n",
       "<table border=\"1\" class=\"dataframe\">\n",
       "  <thead>\n",
       "    <tr style=\"text-align: right;\">\n",
       "      <th></th>\n",
       "      <th>Name</th>\n",
       "      <th>Cap</th>\n",
       "      <th>meanDailyReturn</th>\n",
       "      <th>meanDailySTD</th>\n",
       "      <th>meanAnnualReturn</th>\n",
       "      <th>meanAnnualSTD</th>\n",
       "    </tr>\n",
       "    <tr>\n",
       "      <th>Name</th>\n",
       "      <th></th>\n",
       "      <th></th>\n",
       "      <th></th>\n",
       "      <th></th>\n",
       "      <th></th>\n",
       "      <th></th>\n",
       "    </tr>\n",
       "  </thead>\n",
       "  <tbody>\n",
       "    <tr>\n",
       "      <th>ADANIPORTS</th>\n",
       "      <td>ADANIPORTS</td>\n",
       "      <td>Large_Cap</td>\n",
       "      <td>0.00024</td>\n",
       "      <td>0.019493</td>\n",
       "      <td>0.060376</td>\n",
       "      <td>0.309436</td>\n",
       "    </tr>\n",
       "  </tbody>\n",
       "</table>\n",
       "</div>"
      ],
      "text/plain": [
       "                  Name        Cap  meanDailyReturn  meanDailySTD  \\\n",
       "Name                                                               \n",
       "ADANIPORTS  ADANIPORTS  Large_Cap          0.00024      0.019493   \n",
       "\n",
       "            meanAnnualReturn  meanAnnualSTD  \n",
       "Name                                         \n",
       "ADANIPORTS          0.060376       0.309436  "
      ]
     },
     "execution_count": 15,
     "metadata": {},
     "output_type": "execute_result"
    }
   ],
   "source": [
    "def read_csv( filename ):\n",
    "    if isinstance(filename, pd.DataFrame): return filename  \n",
    "    \n",
    "    dataframe = pd.read_csv( filename )\n",
    "    \n",
    "    dataframe['Date'] = pd.to_datetime(dataframe.Date)\n",
    "    return dataframe\n",
    "\n",
    "def meanDailyReturn( filename ):\n",
    "    return read_csv( filename )['Close Price'].pct_change().dropna().mean()\n",
    "\n",
    "def meanDailySTD( filename ):\n",
    "    return read_csv( filename )['Close Price'].pct_change().dropna().std()\n",
    "\n",
    "def meanAnnualReturn( filename ):\n",
    "    return meanDailyReturn(filename) * 252\n",
    "\n",
    "def meanAnnualSTD( filename ):\n",
    "    return meanDailySTD(filename) * np.sqrt(252)\n",
    "\n",
    "def getName( filename ):\n",
    "    return re.sub(r'^.+/|\\.[^.]+$',     '',    filename)\n",
    "\n",
    "def getCap( filename ):\n",
    "    return re.sub(r'^.*/(\\w+_Cap)/.*$', '\\\\1', filename)\n",
    "\n",
    "def calcReturnVolatility( filename ):\n",
    "    input  = read_csv( filename )\n",
    "    output = DataFrame([{\n",
    "        \"Name\":             getName( filename ),\n",
    "        \"Cap\":              getCap(  filename ),\n",
    "        \"meanDailyReturn\":  meanDailyReturn( input ),\n",
    "        \"meanDailySTD\":     meanDailySTD( input ),\n",
    "        \"meanAnnualReturn\": meanAnnualReturn( input ),\n",
    "        \"meanAnnualSTD\":    meanAnnualSTD( input )\n",
    "    }])\n",
    "    output.set_index( output.Name, inplace=True, drop=False )\n",
    "    return output\n",
    "\n",
    "stock = r'E:/Internship/Large_Cap/Large_Cap/ADANIPORTS.csv'\n",
    "calcReturnVolatility(stock)\n"
   ]
  },
  {
   "cell_type": "code",
   "execution_count": 19,
   "metadata": {},
   "outputs": [
    {
     "data": {
      "text/html": [
       "<div>\n",
       "<style scoped>\n",
       "    .dataframe tbody tr th:only-of-type {\n",
       "        vertical-align: middle;\n",
       "    }\n",
       "\n",
       "    .dataframe tbody tr th {\n",
       "        vertical-align: top;\n",
       "    }\n",
       "\n",
       "    .dataframe thead th {\n",
       "        text-align: right;\n",
       "    }\n",
       "</style>\n",
       "<table border=\"1\" class=\"dataframe\">\n",
       "  <thead>\n",
       "    <tr style=\"text-align: right;\">\n",
       "      <th></th>\n",
       "      <th>Name</th>\n",
       "      <th>Cap</th>\n",
       "      <th>meanDailyReturn</th>\n",
       "      <th>meanDailySTD</th>\n",
       "      <th>meanAnnualReturn</th>\n",
       "      <th>meanAnnualSTD</th>\n",
       "    </tr>\n",
       "    <tr>\n",
       "      <th>Name</th>\n",
       "      <th></th>\n",
       "      <th></th>\n",
       "      <th></th>\n",
       "      <th></th>\n",
       "      <th></th>\n",
       "      <th></th>\n",
       "    </tr>\n",
       "  </thead>\n",
       "  <tbody>\n",
       "    <tr>\n",
       "      <th>Large_Cap\\ADANIPORTS</th>\n",
       "      <td>Large_Cap\\ADANIPORTS</td>\n",
       "      <td>Large_Cap</td>\n",
       "      <td>0.000240</td>\n",
       "      <td>0.019493</td>\n",
       "      <td>0.060376</td>\n",
       "      <td>0.309436</td>\n",
       "    </tr>\n",
       "    <tr>\n",
       "      <th>Large_Cap\\HDFCBANK</th>\n",
       "      <td>Large_Cap\\HDFCBANK</td>\n",
       "      <td>Large_Cap</td>\n",
       "      <td>0.000751</td>\n",
       "      <td>0.015151</td>\n",
       "      <td>0.189263</td>\n",
       "      <td>0.240513</td>\n",
       "    </tr>\n",
       "    <tr>\n",
       "      <th>Large_Cap\\CIPLA</th>\n",
       "      <td>Large_Cap\\CIPLA</td>\n",
       "      <td>Large_Cap</td>\n",
       "      <td>0.000047</td>\n",
       "      <td>0.015997</td>\n",
       "      <td>0.011769</td>\n",
       "      <td>0.253941</td>\n",
       "    </tr>\n",
       "    <tr>\n",
       "      <th>Large_Cap\\ASIANPAINT</th>\n",
       "      <td>Large_Cap\\ASIANPAINT</td>\n",
       "      <td>Large_Cap</td>\n",
       "      <td>0.000388</td>\n",
       "      <td>0.013181</td>\n",
       "      <td>0.097791</td>\n",
       "      <td>0.209249</td>\n",
       "    </tr>\n",
       "    <tr>\n",
       "      <th>Large_Cap\\BPCL</th>\n",
       "      <td>Large_Cap\\BPCL</td>\n",
       "      <td>Large_Cap</td>\n",
       "      <td>-0.001035</td>\n",
       "      <td>0.027464</td>\n",
       "      <td>-0.260891</td>\n",
       "      <td>0.435982</td>\n",
       "    </tr>\n",
       "  </tbody>\n",
       "</table>\n",
       "</div>"
      ],
      "text/plain": [
       "                                      Name        Cap  meanDailyReturn  \\\n",
       "Name                                                                     \n",
       "Large_Cap\\ADANIPORTS  Large_Cap\\ADANIPORTS  Large_Cap         0.000240   \n",
       "Large_Cap\\HDFCBANK      Large_Cap\\HDFCBANK  Large_Cap         0.000751   \n",
       "Large_Cap\\CIPLA            Large_Cap\\CIPLA  Large_Cap         0.000047   \n",
       "Large_Cap\\ASIANPAINT  Large_Cap\\ASIANPAINT  Large_Cap         0.000388   \n",
       "Large_Cap\\BPCL              Large_Cap\\BPCL  Large_Cap        -0.001035   \n",
       "\n",
       "                      meanDailySTD  meanAnnualReturn  meanAnnualSTD  \n",
       "Name                                                                 \n",
       "Large_Cap\\ADANIPORTS      0.019493          0.060376       0.309436  \n",
       "Large_Cap\\HDFCBANK        0.015151          0.189263       0.240513  \n",
       "Large_Cap\\CIPLA           0.015997          0.011769       0.253941  \n",
       "Large_Cap\\ASIANPAINT      0.013181          0.097791       0.209249  \n",
       "Large_Cap\\BPCL            0.027464         -0.260891       0.435982  "
      ]
     },
     "execution_count": 19,
     "metadata": {},
     "output_type": "execute_result"
    }
   ],
   "source": [
    "filenames_all = glob.glob(r'E:/Internship/Large_Cap/Large_Cap/*.csv')\n",
    "filenames     = random.sample( filenames_all, 5 )\n",
    "\n",
    "summary_all   = pd.concat([ calcReturnVolatility(stock) for stock in filenames_all ])\n",
    "summary       = pd.concat([ calcReturnVolatility(stock) for stock in filenames     ])\n",
    "summary"
   ]
  },
  {
   "cell_type": "code",
   "execution_count": 22,
   "metadata": {},
   "outputs": [
    {
     "data": {
      "text/html": [
       "<div>\n",
       "<style scoped>\n",
       "    .dataframe tbody tr th:only-of-type {\n",
       "        vertical-align: middle;\n",
       "    }\n",
       "\n",
       "    .dataframe tbody tr th {\n",
       "        vertical-align: top;\n",
       "    }\n",
       "\n",
       "    .dataframe thead th {\n",
       "        text-align: right;\n",
       "    }\n",
       "</style>\n",
       "<table border=\"1\" class=\"dataframe\">\n",
       "  <thead>\n",
       "    <tr style=\"text-align: right;\">\n",
       "      <th></th>\n",
       "      <th>Large_Cap\\ADANIPORTS</th>\n",
       "      <th>Large_Cap\\HDFCBANK</th>\n",
       "      <th>Large_Cap\\CIPLA</th>\n",
       "      <th>Large_Cap\\ASIANPAINT</th>\n",
       "      <th>Large_Cap\\BPCL</th>\n",
       "    </tr>\n",
       "  </thead>\n",
       "  <tbody>\n",
       "    <tr>\n",
       "      <th>0</th>\n",
       "      <td>356.20</td>\n",
       "      <td>1553.40</td>\n",
       "      <td>569.00</td>\n",
       "      <td>1148.05</td>\n",
       "      <td>727.85</td>\n",
       "    </tr>\n",
       "    <tr>\n",
       "      <th>1</th>\n",
       "      <td>354.50</td>\n",
       "      <td>1583.00</td>\n",
       "      <td>565.60</td>\n",
       "      <td>1142.85</td>\n",
       "      <td>733.30</td>\n",
       "    </tr>\n",
       "    <tr>\n",
       "      <th>2</th>\n",
       "      <td>348.55</td>\n",
       "      <td>1559.65</td>\n",
       "      <td>562.35</td>\n",
       "      <td>1154.95</td>\n",
       "      <td>727.45</td>\n",
       "    </tr>\n",
       "    <tr>\n",
       "      <th>3</th>\n",
       "      <td>347.90</td>\n",
       "      <td>1557.15</td>\n",
       "      <td>560.10</td>\n",
       "      <td>1151.35</td>\n",
       "      <td>714.90</td>\n",
       "    </tr>\n",
       "    <tr>\n",
       "      <th>4</th>\n",
       "      <td>349.45</td>\n",
       "      <td>1600.00</td>\n",
       "      <td>564.95</td>\n",
       "      <td>1123.15</td>\n",
       "      <td>702.45</td>\n",
       "    </tr>\n",
       "  </tbody>\n",
       "</table>\n",
       "</div>"
      ],
      "text/plain": [
       "   Large_Cap\\ADANIPORTS  Large_Cap\\HDFCBANK  Large_Cap\\CIPLA  \\\n",
       "0                356.20             1553.40           569.00   \n",
       "1                354.50             1583.00           565.60   \n",
       "2                348.55             1559.65           562.35   \n",
       "3                347.90             1557.15           560.10   \n",
       "4                349.45             1600.00           564.95   \n",
       "\n",
       "   Large_Cap\\ASIANPAINT  Large_Cap\\BPCL  \n",
       "0               1148.05          727.85  \n",
       "1               1142.85          733.30  \n",
       "2               1154.95          727.45  \n",
       "3               1151.35          714.90  \n",
       "4               1123.15          702.45  "
      ]
     },
     "execution_count": 22,
     "metadata": {},
     "output_type": "execute_result"
    }
   ],
   "source": [
    "portfolio = DataFrame()\n",
    "for filename in filenames:\n",
    "    portfolio[ getName(filename) ] = read_csv(filename)['Close Price']\n",
    "portfolio.head()"
   ]
  },
  {
   "cell_type": "code",
   "execution_count": 23,
   "metadata": {},
   "outputs": [
    {
     "data": {
      "text/plain": [
       "array([0.2, 0.2, 0.2, 0.2, 0.2])"
      ]
     },
     "execution_count": 23,
     "metadata": {},
     "output_type": "execute_result"
    }
   ],
   "source": [
    "\n",
    "equal_weights = np.full( portfolio.shape[1], 1/portfolio.shape[1] )\n",
    "equal_weights"
   ]
  },
  {
   "cell_type": "code",
   "execution_count": 24,
   "metadata": {},
   "outputs": [
    {
     "data": {
      "text/plain": [
       "0.02"
      ]
     },
     "execution_count": 24,
     "metadata": {},
     "output_type": "execute_result"
    }
   ],
   "source": [
    "def portfolio_annual_returns(portfolio, weights):\n",
    "    return np.sum( portfolio.pct_change().mean() * weights ) * 252  \n",
    "\n",
    "round( portfolio_annual_returns(portfolio, equal_weights), 2 )"
   ]
  },
  {
   "cell_type": "code",
   "execution_count": 25,
   "metadata": {},
   "outputs": [
    {
     "data": {
      "text/html": [
       "<div>\n",
       "<style scoped>\n",
       "    .dataframe tbody tr th:only-of-type {\n",
       "        vertical-align: middle;\n",
       "    }\n",
       "\n",
       "    .dataframe tbody tr th {\n",
       "        vertical-align: top;\n",
       "    }\n",
       "\n",
       "    .dataframe thead th {\n",
       "        text-align: right;\n",
       "    }\n",
       "</style>\n",
       "<table border=\"1\" class=\"dataframe\">\n",
       "  <thead>\n",
       "    <tr style=\"text-align: right;\">\n",
       "      <th></th>\n",
       "      <th>Large_Cap\\ADANIPORTS</th>\n",
       "      <th>Large_Cap\\HDFCBANK</th>\n",
       "      <th>Large_Cap\\CIPLA</th>\n",
       "      <th>Large_Cap\\ASIANPAINT</th>\n",
       "      <th>Large_Cap\\BPCL</th>\n",
       "    </tr>\n",
       "  </thead>\n",
       "  <tbody>\n",
       "    <tr>\n",
       "      <th>Large_Cap\\ADANIPORTS</th>\n",
       "      <td>0.000380</td>\n",
       "      <td>-0.000034</td>\n",
       "      <td>0.000070</td>\n",
       "      <td>0.000051</td>\n",
       "      <td>0.000097</td>\n",
       "    </tr>\n",
       "    <tr>\n",
       "      <th>Large_Cap\\HDFCBANK</th>\n",
       "      <td>-0.000034</td>\n",
       "      <td>0.000261</td>\n",
       "      <td>-0.000012</td>\n",
       "      <td>0.000007</td>\n",
       "      <td>-0.000005</td>\n",
       "    </tr>\n",
       "    <tr>\n",
       "      <th>Large_Cap\\CIPLA</th>\n",
       "      <td>0.000070</td>\n",
       "      <td>-0.000012</td>\n",
       "      <td>0.000256</td>\n",
       "      <td>0.000027</td>\n",
       "      <td>0.000029</td>\n",
       "    </tr>\n",
       "    <tr>\n",
       "      <th>Large_Cap\\ASIANPAINT</th>\n",
       "      <td>0.000051</td>\n",
       "      <td>0.000007</td>\n",
       "      <td>0.000027</td>\n",
       "      <td>0.000174</td>\n",
       "      <td>0.000100</td>\n",
       "    </tr>\n",
       "    <tr>\n",
       "      <th>Large_Cap\\BPCL</th>\n",
       "      <td>0.000097</td>\n",
       "      <td>-0.000005</td>\n",
       "      <td>0.000029</td>\n",
       "      <td>0.000100</td>\n",
       "      <td>0.000754</td>\n",
       "    </tr>\n",
       "  </tbody>\n",
       "</table>\n",
       "</div>"
      ],
      "text/plain": [
       "                      Large_Cap\\ADANIPORTS  Large_Cap\\HDFCBANK  \\\n",
       "Large_Cap\\ADANIPORTS              0.000380           -0.000034   \n",
       "Large_Cap\\HDFCBANK               -0.000034            0.000261   \n",
       "Large_Cap\\CIPLA                   0.000070           -0.000012   \n",
       "Large_Cap\\ASIANPAINT              0.000051            0.000007   \n",
       "Large_Cap\\BPCL                    0.000097           -0.000005   \n",
       "\n",
       "                      Large_Cap\\CIPLA  Large_Cap\\ASIANPAINT  Large_Cap\\BPCL  \n",
       "Large_Cap\\ADANIPORTS         0.000070              0.000051        0.000097  \n",
       "Large_Cap\\HDFCBANK          -0.000012              0.000007       -0.000005  \n",
       "Large_Cap\\CIPLA              0.000256              0.000027        0.000029  \n",
       "Large_Cap\\ASIANPAINT         0.000027              0.000174        0.000100  \n",
       "Large_Cap\\BPCL               0.000029              0.000100        0.000754  "
      ]
     },
     "execution_count": 25,
     "metadata": {},
     "output_type": "execute_result"
    }
   ],
   "source": [
    "portfolio_covarence = portfolio.pct_change().cov()\n",
    "portfolio_covarence"
   ]
  },
  {
   "cell_type": "code",
   "execution_count": 26,
   "metadata": {},
   "outputs": [
    {
     "data": {
      "text/plain": [
       "0.04"
      ]
     },
     "execution_count": 26,
     "metadata": {},
     "output_type": "execute_result"
    }
   ],
   "source": [
    "def portfolio_annual_volatility( portfolio, weights ): \n",
    "    return np.sqrt(\n",
    "        np.dot( \n",
    "            weights.T, \n",
    "            np.dot( portfolio.pct_change().cov(), weights )\n",
    "        ) \n",
    "        * np.sqrt(252)\n",
    "    )\n",
    "\n",
    "round( portfolio_annual_volatility(portfolio, equal_weights), 2 )"
   ]
  },
  {
   "cell_type": "code",
   "execution_count": 27,
   "metadata": {},
   "outputs": [
    {
     "data": {
      "text/plain": [
       "0.4"
      ]
     },
     "execution_count": 27,
     "metadata": {},
     "output_type": "execute_result"
    }
   ],
   "source": [
    "def portfolio_sharpe( portfolio, weights ): \n",
    "    return portfolio_annual_returns( portfolio, weights ) / portfolio_annual_volatility( portfolio, weights )\n",
    "\n",
    "round( portfolio_sharpe(portfolio, equal_weights), 2 )"
   ]
  },
  {
   "cell_type": "code",
   "execution_count": 28,
   "metadata": {},
   "outputs": [
    {
     "name": "stdout",
     "output_type": "stream",
     "text": [
      "Portfolio Annualized Mean Return:  0.02\n",
      "Portfolio Annualized Volatility:   0.04\n"
     ]
    }
   ],
   "source": [
    "\n",
    "print(\"Portfolio Annualized Mean Return: \", round( portfolio_annual_returns(    portfolio, equal_weights ), 2) )\n",
    "print(\"Portfolio Annualized Volatility:  \", round( portfolio_annual_volatility( portfolio, equal_weights ), 2) )"
   ]
  },
  {
   "cell_type": "code",
   "execution_count": 29,
   "metadata": {},
   "outputs": [
    {
     "data": {
      "text/plain": [
       "array([0.313, 0.367, 0.01 , 0.113, 0.197])"
      ]
     },
     "execution_count": 29,
     "metadata": {},
     "output_type": "execute_result"
    }
   ],
   "source": [
    "def normalize_weights( weights ):\n",
    "    for i in range(0,3):\n",
    "        weights  = np.round( weights, 3 ) \n",
    "        weights /= weights.sum()\n",
    "    return np.asarray(weights)\n",
    "    \n",
    "def random_weights():\n",
    "    weights  = np.random.rand(portfolio.shape[1])\n",
    "    return normalize_weights( weights )\n",
    "\n",
    "random_weights()"
   ]
  },
  {
   "cell_type": "code",
   "execution_count": 30,
   "metadata": {},
   "outputs": [
    {
     "data": {
      "text/html": [
       "<div>\n",
       "<style scoped>\n",
       "    .dataframe tbody tr th:only-of-type {\n",
       "        vertical-align: middle;\n",
       "    }\n",
       "\n",
       "    .dataframe tbody tr th {\n",
       "        vertical-align: top;\n",
       "    }\n",
       "\n",
       "    .dataframe thead th {\n",
       "        text-align: right;\n",
       "    }\n",
       "</style>\n",
       "<table border=\"1\" class=\"dataframe\">\n",
       "  <thead>\n",
       "    <tr style=\"text-align: right;\">\n",
       "      <th></th>\n",
       "      <th>weights</th>\n",
       "      <th>returns</th>\n",
       "      <th>volatility</th>\n",
       "      <th>sharpe</th>\n",
       "    </tr>\n",
       "  </thead>\n",
       "  <tbody>\n",
       "    <tr>\n",
       "      <th>0</th>\n",
       "      <td>[0.2852852852852853, 0.1701701701701702, 0.225...</td>\n",
       "      <td>0.018952</td>\n",
       "      <td>0.040897</td>\n",
       "      <td>0.463402</td>\n",
       "    </tr>\n",
       "    <tr>\n",
       "      <th>1</th>\n",
       "      <td>[0.23423423423423426, 0.21921921921921922, 0.0...</td>\n",
       "      <td>-0.030649</td>\n",
       "      <td>0.051464</td>\n",
       "      <td>-0.595538</td>\n",
       "    </tr>\n",
       "    <tr>\n",
       "      <th>2</th>\n",
       "      <td>[0.379, 0.135, 0.066, 0.237, 0.183]</td>\n",
       "      <td>0.021661</td>\n",
       "      <td>0.045150</td>\n",
       "      <td>0.479750</td>\n",
       "    </tr>\n",
       "    <tr>\n",
       "      <th>3</th>\n",
       "      <td>[0.278, 0.196, 0.279, 0.174, 0.073]</td>\n",
       "      <td>0.052297</td>\n",
       "      <td>0.037803</td>\n",
       "      <td>1.383400</td>\n",
       "    </tr>\n",
       "    <tr>\n",
       "      <th>4</th>\n",
       "      <td>[0.027, 0.267, 0.259, 0.163, 0.284]</td>\n",
       "      <td>-0.007793</td>\n",
       "      <td>0.043255</td>\n",
       "      <td>-0.180165</td>\n",
       "    </tr>\n",
       "  </tbody>\n",
       "</table>\n",
       "</div>"
      ],
      "text/plain": [
       "                                             weights   returns  volatility  \\\n",
       "0  [0.2852852852852853, 0.1701701701701702, 0.225...  0.018952    0.040897   \n",
       "1  [0.23423423423423426, 0.21921921921921922, 0.0... -0.030649    0.051464   \n",
       "2                [0.379, 0.135, 0.066, 0.237, 0.183]  0.021661    0.045150   \n",
       "3                [0.278, 0.196, 0.279, 0.174, 0.073]  0.052297    0.037803   \n",
       "4                [0.027, 0.267, 0.259, 0.163, 0.284] -0.007793    0.043255   \n",
       "\n",
       "     sharpe  \n",
       "0  0.463402  \n",
       "1 -0.595538  \n",
       "2  0.479750  \n",
       "3  1.383400  \n",
       "4 -0.180165  "
      ]
     },
     "execution_count": 30,
     "metadata": {},
     "output_type": "execute_result"
    }
   ],
   "source": [
    "\n",
    "scatter_data = DataFrame()\n",
    "for i in range(0, 2500):\n",
    "    weights    = random_weights()\n",
    "    returns    = portfolio_annual_returns(    portfolio, weights )\n",
    "    volatility = portfolio_annual_volatility( portfolio, weights )\n",
    "    sharpe     = returns / volatility\n",
    "    scatter_data = scatter_data.append([{\n",
    "        \"weights\":    weights,\n",
    "        \"returns\":    returns,\n",
    "        \"volatility\": volatility,\n",
    "        \"sharpe\":     sharpe\n",
    "    }])\n",
    "\n",
    "scatter_data.reset_index(inplace=True, drop=True)\n",
    "scatter_data.head()"
   ]
  },
  {
   "cell_type": "code",
   "execution_count": 31,
   "metadata": {},
   "outputs": [
    {
     "data": {
      "text/plain": [
       "weights       [0.108, 0.525, 0.019, 0.346, 0.002]\n",
       "returns                                  0.125886\n",
       "volatility                              0.0399347\n",
       "sharpe                                    3.15229\n",
       "Name: 654, dtype: object"
      ]
     },
     "execution_count": 31,
     "metadata": {},
     "output_type": "execute_result"
    }
   ],
   "source": [
    "point_max_sharpe     = scatter_data.loc[ scatter_data['sharpe'].idxmax()     ]\n",
    "point_max_sharpe"
   ]
  },
  {
   "cell_type": "code",
   "execution_count": 33,
   "metadata": {},
   "outputs": [
    {
     "data": {
      "text/plain": [
       "weights       [0.159, 0.264, 0.25, 0.296, 0.031]\n",
       "returns                                0.0785193\n",
       "volatility                             0.0342713\n",
       "sharpe                                   2.29111\n",
       "Name: 1937, dtype: object"
      ]
     },
     "execution_count": 33,
     "metadata": {},
     "output_type": "execute_result"
    }
   ],
   "source": [
    "\n",
    "point_min_volatility = scatter_data.loc[ scatter_data['volatility'].idxmin() ]\n",
    "point_min_volatility"
   ]
  },
  {
   "cell_type": "code",
   "execution_count": 34,
   "metadata": {},
   "outputs": [
    {
     "data": {
      "text/plain": [
       "<matplotlib.collections.PathCollection at 0x1318fd9eb48>"
      ]
     },
     "execution_count": 34,
     "metadata": {},
     "output_type": "execute_result"
    },
    {
     "data": {
      "image/png": "[encoded data removed]",
      "text/plain": [
       "<Figure size 1440x720 with 2 Axes>"
      ]
     },
     "metadata": {
      "needs_background": "light"
     },
     "output_type": "display_data"
    }
   ],
   "source": [
    "fig, ax = plt.subplots(figsize=(20, 10), nrows=1, ncols=1)\n",
    "plt.scatter( \n",
    "    scatter_data.volatility,     \n",
    "    scatter_data.returns, \n",
    "    c = scatter_data.sharpe\n",
    ")\n",
    "plt.title('Portfolo Weightings - Monty-Carlo Simulation')\n",
    "plt.ylabel('Annualized Return')\n",
    "plt.xlabel('Annualized Volatility')\n",
    "plt.colorbar()\n",
    "\n",
    "# Mark the 2 portfolios where\n",
    "plt.scatter( point_max_sharpe.volatility,     point_max_sharpe.returns,     marker=(5,1,0), c='b', s=200 )\n",
    "plt.scatter( point_min_volatility.volatility, point_min_volatility.returns, marker=(5,1,0), c='r', s=200 )"
   ]
  },
  {
   "cell_type": "code",
   "execution_count": null,
   "metadata": {
    "scrolled": true
   },
   "outputs": [],
   "source": [
    "def max_sharpe( weights ):\n",
    "    weights = normalize_weights(weights)\n",
    "    sharpe  = portfolio_annual_returns( portfolio, weights ) / portfolio_annual_volatility( portfolio, weights )\n",
    "    return  -sharpe  # convert maximization for minimization\n",
    "\n",
    "skopt_max_sharpe = skopt.gp_minimize(\n",
    "    max_sharpe, \n",
    "    [(0., 1.),(0., 1.),(0., 1.),(0., 1.),(0., 1.)],  # must be floating point array\n",
    "    verbose=False,\n",
    "    n_calls=30,         # the number of evaluations of f \n",
    "    n_random_starts=5,  # the number of random initialization points\n",
    "    random_state=123    # the random seed    \n",
    ")\n",
    "print( \"Max Sharpe Ratio Value   - skopt:       \", -skopt_max_sharpe.fun )\n",
    "print( \"Max Sharpe Ratio Value   - Monty Carlo: \",  point_max_sharpe.sharpe  )\n",
    "print( \"Max Sharpe Ratio Improvement:           \",  round( abs(-skopt_max_sharpe.fun / point_max_sharpe.sharpe), 2), 'x'  )\n",
    "print( \"Max Sharpe Ratio Weights - skopt:       \",  skopt_max_sharpe.x )\n",
    "print( \"Max Sharpe Ratio Weights - Monty Carlo: \",  point_max_sharpe.weights  )"
   ]
  },
  {
   "cell_type": "code",
   "execution_count": null,
   "metadata": {},
   "outputs": [],
   "source": [
    "def min_volatility( weights ):\n",
    "    weights    = normalize_weights(weights)\n",
    "    volatility = portfolio_annual_volatility( portfolio, weights )\n",
    "    return volatility\n",
    "    \n",
    "# DOCS: https://scikit-optimize.github.io/#skopt.gp_minimize\n",
    "skopt_min_volatility = skopt.gp_minimize(\n",
    "    min_volatility, \n",
    "    [(0., 1.),(0., 1.),(0., 1.),(0., 1.),(0., 1.)],  # must be floating point array\n",
    "    verbose=False,\n",
    "    n_calls=30,         # the number of evaluations of f \n",
    "    n_random_starts=5,  # the number of random initialization points\n",
    "    random_state=123    # the random seed        \n",
    ")\n",
    "print( \"Min Volatility Value   - skopt:       \",  skopt_min_volatility.fun )\n",
    "print( \"Min Volatility Value   - Monty Carlo: \",  point_min_volatility.volatility  )\n",
    "print( \"Min Volatility Weights - skopt:       \",  skopt_min_volatility.x )\n",
    "print( \"Min Volatility Weights - Monty Carlo: \",  point_min_volatility.weights  )"
   ]
  },
  {
   "cell_type": "code",
   "execution_count": 38,
   "metadata": {},
   "outputs": [
    {
     "ename": "NameError",
     "evalue": "name 'skopt_max_sharpe' is not defined",
     "output_type": "error",
     "traceback": [
      "\u001b[1;31m---------------------------------------------------------------------------\u001b[0m",
      "\u001b[1;31mNameError\u001b[0m                                 Traceback (most recent call last)",
      "\u001b[1;32m<ipython-input-38-01df94bc713c>\u001b[0m in \u001b[0;36m<module>\u001b[1;34m\u001b[0m\n\u001b[0;32m     14\u001b[0m \u001b[0mplt\u001b[0m\u001b[1;33m.\u001b[0m\u001b[0mscatter\u001b[0m\u001b[1;33m(\u001b[0m \u001b[0mpoint_min_volatility\u001b[0m\u001b[1;33m.\u001b[0m\u001b[0mvolatility\u001b[0m\u001b[1;33m,\u001b[0m \u001b[0mpoint_min_volatility\u001b[0m\u001b[1;33m.\u001b[0m\u001b[0mreturns\u001b[0m\u001b[1;33m,\u001b[0m \u001b[0mmarker\u001b[0m\u001b[1;33m=\u001b[0m\u001b[1;33m(\u001b[0m\u001b[1;36m5\u001b[0m\u001b[1;33m,\u001b[0m\u001b[1;36m1\u001b[0m\u001b[1;33m,\u001b[0m\u001b[1;36m0\u001b[0m\u001b[1;33m)\u001b[0m\u001b[1;33m,\u001b[0m \u001b[0mc\u001b[0m\u001b[1;33m=\u001b[0m\u001b[1;34m'r'\u001b[0m\u001b[1;33m,\u001b[0m \u001b[0ms\u001b[0m\u001b[1;33m=\u001b[0m\u001b[1;36m200\u001b[0m \u001b[1;33m)\u001b[0m\u001b[1;33m\u001b[0m\u001b[1;33m\u001b[0m\u001b[0m\n\u001b[0;32m     15\u001b[0m plt.scatter( \n\u001b[1;32m---> 16\u001b[1;33m     \u001b[0mportfolio_annual_volatility\u001b[0m\u001b[1;33m(\u001b[0m \u001b[0mportfolio\u001b[0m\u001b[1;33m,\u001b[0m \u001b[0mnormalize_weights\u001b[0m\u001b[1;33m(\u001b[0m\u001b[0mskopt_max_sharpe\u001b[0m\u001b[1;33m.\u001b[0m\u001b[0mx\u001b[0m\u001b[1;33m)\u001b[0m \u001b[1;33m)\u001b[0m\u001b[1;33m,\u001b[0m\u001b[1;33m\u001b[0m\u001b[1;33m\u001b[0m\u001b[0m\n\u001b[0m\u001b[0;32m     17\u001b[0m     \u001b[0mportfolio_annual_returns\u001b[0m\u001b[1;33m(\u001b[0m    \u001b[0mportfolio\u001b[0m\u001b[1;33m,\u001b[0m \u001b[0mnormalize_weights\u001b[0m\u001b[1;33m(\u001b[0m\u001b[0mskopt_max_sharpe\u001b[0m\u001b[1;33m.\u001b[0m\u001b[0mx\u001b[0m\u001b[1;33m)\u001b[0m \u001b[1;33m)\u001b[0m\u001b[1;33m,\u001b[0m\u001b[1;33m\u001b[0m\u001b[1;33m\u001b[0m\u001b[0m\n\u001b[0;32m     18\u001b[0m     \u001b[0mmarker\u001b[0m\u001b[1;33m=\u001b[0m\u001b[1;33m(\u001b[0m\u001b[1;36m4\u001b[0m\u001b[1;33m,\u001b[0m\u001b[1;36m2\u001b[0m\u001b[1;33m,\u001b[0m\u001b[1;36m0\u001b[0m\u001b[1;33m)\u001b[0m\u001b[1;33m,\u001b[0m \u001b[0mc\u001b[0m\u001b[1;33m=\u001b[0m\u001b[1;34m'b'\u001b[0m\u001b[1;33m,\u001b[0m \u001b[0ms\u001b[0m\u001b[1;33m=\u001b[0m\u001b[1;36m200\u001b[0m\u001b[1;33m\u001b[0m\u001b[1;33m\u001b[0m\u001b[0m\n",
      "\u001b[1;31mNameError\u001b[0m: name 'skopt_max_sharpe' is not defined"
     ]
    },
    {
     "data": {
      "image/png": "[encoded data removed]",
      "text/plain": [
       "<Figure size 1440x720 with 2 Axes>"
      ]
     },
     "metadata": {
      "needs_background": "light"
     },
     "output_type": "display_data"
    }
   ],
   "source": [
    "\n",
    "fig, ax = plt.subplots(figsize=(20, 10), nrows=1, ncols=1)\n",
    "plt.scatter( \n",
    "    scatter_data.volatility,     \n",
    "    scatter_data.returns, \n",
    "    c = scatter_data.sharpe\n",
    ")\n",
    "plt.title('Portfolo Weightings - Monty-Carlo Simulation')\n",
    "plt.ylabel('Annualized Return')\n",
    "plt.xlabel('Annualized Volatility')\n",
    "plt.colorbar()\n",
    "\n",
    "# Mark the 2 portfolios where\n",
    "plt.scatter( point_max_sharpe.volatility,     point_max_sharpe.returns,     marker=(5,1,0), c='b', s=200 )\n",
    "plt.scatter( point_min_volatility.volatility, point_min_volatility.returns, marker=(5,1,0), c='r', s=200 )\n",
    "plt.scatter( \n",
    "    portfolio_annual_volatility( portfolio, normalize_weights(skopt_max_sharpe.x) ),     \n",
    "    portfolio_annual_returns(    portfolio, normalize_weights(skopt_max_sharpe.x) ), \n",
    "    marker=(4,2,0), c='b', s=200 \n",
    ")\n",
    "plt.scatter( \n",
    "    portfolio_annual_volatility( portfolio, normalize_weights(skopt_min_volatility.x) ),     \n",
    "    portfolio_annual_returns(    portfolio, normalize_weights(skopt_min_volatility.x) ), \n",
    "    marker=(4,2,0), c='r', s=200 \n",
    ")"
   ]
  },
  {
   "cell_type": "code",
   "execution_count": null,
   "metadata": {},
   "outputs": [],
   "source": [
    "summary_all['Sharpe'] = summary_all.meanAnnualReturn / summary_all.meanAnnualSTD\n",
    "\n",
    "fig, axes = plt.subplots(figsize=(20, 30), nrows=2, ncols=1)\n",
    "for n in range(0,2):\n",
    "    axes[n].scatter( \n",
    "        summary_all.meanAnnualReturn, \n",
    "        summary_all.meanAnnualSTD, \n",
    "        c     = summary_all['Sharpe'],\n",
    "        label = summary_all['Sharpe']\n",
    "    )\n",
    "    axes[n].set_title('Returns vs Volatility')\n",
    "    axes[n].set_xlabel('Annualized Return')\n",
    "    axes[n].set_ylabel('Annualized Volatility')\n",
    "\n",
    "for i in range(0, summary_all.shape[0]):\n",
    "    axes[n].annotate(summary_all.Name[i], (summary_all.meanAnnualReturn[i]+0.02, summary_all.meanAnnualSTD[i] - 0.005))"
   ]
  },
  {
   "cell_type": "code",
   "execution_count": 40,
   "metadata": {},
   "outputs": [
    {
     "data": {
      "text/html": [
       "<div>\n",
       "<style scoped>\n",
       "    .dataframe tbody tr th:only-of-type {\n",
       "        vertical-align: middle;\n",
       "    }\n",
       "\n",
       "    .dataframe tbody tr th {\n",
       "        vertical-align: top;\n",
       "    }\n",
       "\n",
       "    .dataframe thead th {\n",
       "        text-align: right;\n",
       "    }\n",
       "</style>\n",
       "<table border=\"1\" class=\"dataframe\">\n",
       "  <thead>\n",
       "    <tr style=\"text-align: right;\">\n",
       "      <th></th>\n",
       "      <th>Name</th>\n",
       "      <th>Cap</th>\n",
       "      <th>meanDailyReturn</th>\n",
       "      <th>meanDailySTD</th>\n",
       "      <th>meanAnnualReturn</th>\n",
       "      <th>meanAnnualSTD</th>\n",
       "      <th>Sharpe</th>\n",
       "    </tr>\n",
       "    <tr>\n",
       "      <th>Name</th>\n",
       "      <th></th>\n",
       "      <th></th>\n",
       "      <th></th>\n",
       "      <th></th>\n",
       "      <th></th>\n",
       "      <th></th>\n",
       "      <th></th>\n",
       "    </tr>\n",
       "  </thead>\n",
       "  <tbody>\n",
       "    <tr>\n",
       "      <th>Large_Cap\\HDFC</th>\n",
       "      <td>Large_Cap\\HDFC</td>\n",
       "      <td>Large_Cap</td>\n",
       "      <td>1.387116</td>\n",
       "      <td>2.439083</td>\n",
       "      <td>349.553272</td>\n",
       "      <td>38.719236</td>\n",
       "      <td>9.027897</td>\n",
       "    </tr>\n",
       "    <tr>\n",
       "      <th>Large_Cap\\HINDUNILVR</th>\n",
       "      <td>Large_Cap\\HINDUNILVR</td>\n",
       "      <td>Large_Cap</td>\n",
       "      <td>0.001186</td>\n",
       "      <td>0.012211</td>\n",
       "      <td>0.298772</td>\n",
       "      <td>0.193846</td>\n",
       "      <td>1.541285</td>\n",
       "    </tr>\n",
       "    <tr>\n",
       "      <th>Large_Cap\\TITAN</th>\n",
       "      <td>Large_Cap\\TITAN</td>\n",
       "      <td>Large_Cap</td>\n",
       "      <td>0.001943</td>\n",
       "      <td>0.020422</td>\n",
       "      <td>0.489609</td>\n",
       "      <td>0.324192</td>\n",
       "      <td>1.510246</td>\n",
       "    </tr>\n",
       "    <tr>\n",
       "      <th>Large_Cap\\BAJFINANCE</th>\n",
       "      <td>Large_Cap\\BAJFINANCE</td>\n",
       "      <td>Large_Cap</td>\n",
       "      <td>0.001799</td>\n",
       "      <td>0.020204</td>\n",
       "      <td>0.453413</td>\n",
       "      <td>0.320735</td>\n",
       "      <td>1.413666</td>\n",
       "    </tr>\n",
       "    <tr>\n",
       "      <th>Large_Cap\\AXISBANK</th>\n",
       "      <td>Large_Cap\\AXISBANK</td>\n",
       "      <td>Large_Cap</td>\n",
       "      <td>0.000924</td>\n",
       "      <td>0.017489</td>\n",
       "      <td>0.232722</td>\n",
       "      <td>0.277636</td>\n",
       "      <td>0.838228</td>\n",
       "    </tr>\n",
       "  </tbody>\n",
       "</table>\n",
       "</div>"
      ],
      "text/plain": [
       "                                      Name        Cap  meanDailyReturn  \\\n",
       "Name                                                                     \n",
       "Large_Cap\\HDFC              Large_Cap\\HDFC  Large_Cap         1.387116   \n",
       "Large_Cap\\HINDUNILVR  Large_Cap\\HINDUNILVR  Large_Cap         0.001186   \n",
       "Large_Cap\\TITAN            Large_Cap\\TITAN  Large_Cap         0.001943   \n",
       "Large_Cap\\BAJFINANCE  Large_Cap\\BAJFINANCE  Large_Cap         0.001799   \n",
       "Large_Cap\\AXISBANK      Large_Cap\\AXISBANK  Large_Cap         0.000924   \n",
       "\n",
       "                      meanDailySTD  meanAnnualReturn  meanAnnualSTD    Sharpe  \n",
       "Name                                                                           \n",
       "Large_Cap\\HDFC            2.439083        349.553272      38.719236  9.027897  \n",
       "Large_Cap\\HINDUNILVR      0.012211          0.298772       0.193846  1.541285  \n",
       "Large_Cap\\TITAN           0.020422          0.489609       0.324192  1.510246  \n",
       "Large_Cap\\BAJFINANCE      0.020204          0.453413       0.320735  1.413666  \n",
       "Large_Cap\\AXISBANK        0.017489          0.232722       0.277636  0.838228  "
      ]
     },
     "execution_count": 40,
     "metadata": {},
     "output_type": "execute_result"
    }
   ],
   "source": [
    "\n",
    "portfolio_1 = summary_all.sort_values('Sharpe',ascending=False).head(5)\n",
    "portfolio_1"
   ]
  },
  {
   "cell_type": "code",
   "execution_count": 41,
   "metadata": {},
   "outputs": [
    {
     "data": {
      "text/html": [
       "<div>\n",
       "<style scoped>\n",
       "    .dataframe tbody tr th:only-of-type {\n",
       "        vertical-align: middle;\n",
       "    }\n",
       "\n",
       "    .dataframe tbody tr th {\n",
       "        vertical-align: top;\n",
       "    }\n",
       "\n",
       "    .dataframe thead th {\n",
       "        text-align: right;\n",
       "    }\n",
       "</style>\n",
       "<table border=\"1\" class=\"dataframe\">\n",
       "  <thead>\n",
       "    <tr style=\"text-align: right;\">\n",
       "      <th></th>\n",
       "      <th>Name</th>\n",
       "      <th>Cap</th>\n",
       "      <th>meanDailyReturn</th>\n",
       "      <th>meanDailySTD</th>\n",
       "      <th>meanAnnualReturn</th>\n",
       "      <th>meanAnnualSTD</th>\n",
       "      <th>Sharpe</th>\n",
       "    </tr>\n",
       "    <tr>\n",
       "      <th>Name</th>\n",
       "      <th></th>\n",
       "      <th></th>\n",
       "      <th></th>\n",
       "      <th></th>\n",
       "      <th></th>\n",
       "      <th></th>\n",
       "      <th></th>\n",
       "    </tr>\n",
       "  </thead>\n",
       "  <tbody>\n",
       "    <tr>\n",
       "      <th>Large_Cap\\HINDUNILVR</th>\n",
       "      <td>Large_Cap\\HINDUNILVR</td>\n",
       "      <td>Large_Cap</td>\n",
       "      <td>0.001186</td>\n",
       "      <td>0.012211</td>\n",
       "      <td>0.298772</td>\n",
       "      <td>0.193846</td>\n",
       "      <td>1.541285</td>\n",
       "    </tr>\n",
       "    <tr>\n",
       "      <th>Large_Cap\\ASIANPAINT</th>\n",
       "      <td>Large_Cap\\ASIANPAINT</td>\n",
       "      <td>Large_Cap</td>\n",
       "      <td>0.000388</td>\n",
       "      <td>0.013181</td>\n",
       "      <td>0.097791</td>\n",
       "      <td>0.209249</td>\n",
       "      <td>0.467343</td>\n",
       "    </tr>\n",
       "    <tr>\n",
       "      <th>Large_Cap\\ITC</th>\n",
       "      <td>Large_Cap\\ITC</td>\n",
       "      <td>Large_Cap</td>\n",
       "      <td>0.000182</td>\n",
       "      <td>0.014136</td>\n",
       "      <td>0.045743</td>\n",
       "      <td>0.224401</td>\n",
       "      <td>0.203843</td>\n",
       "    </tr>\n",
       "    <tr>\n",
       "      <th>Large_Cap\\MARUTI</th>\n",
       "      <td>Large_Cap\\MARUTI</td>\n",
       "      <td>Large_Cap</td>\n",
       "      <td>0.000016</td>\n",
       "      <td>0.014174</td>\n",
       "      <td>0.003921</td>\n",
       "      <td>0.225002</td>\n",
       "      <td>0.017426</td>\n",
       "    </tr>\n",
       "    <tr>\n",
       "      <th>Large_Cap\\HEROMOTOCO</th>\n",
       "      <td>Large_Cap\\HEROMOTOCO</td>\n",
       "      <td>Large_Cap</td>\n",
       "      <td>-0.000570</td>\n",
       "      <td>0.015064</td>\n",
       "      <td>-0.143545</td>\n",
       "      <td>0.239141</td>\n",
       "      <td>-0.600251</td>\n",
       "    </tr>\n",
       "  </tbody>\n",
       "</table>\n",
       "</div>"
      ],
      "text/plain": [
       "                                      Name        Cap  meanDailyReturn  \\\n",
       "Name                                                                     \n",
       "Large_Cap\\HINDUNILVR  Large_Cap\\HINDUNILVR  Large_Cap         0.001186   \n",
       "Large_Cap\\ASIANPAINT  Large_Cap\\ASIANPAINT  Large_Cap         0.000388   \n",
       "Large_Cap\\ITC                Large_Cap\\ITC  Large_Cap         0.000182   \n",
       "Large_Cap\\MARUTI          Large_Cap\\MARUTI  Large_Cap         0.000016   \n",
       "Large_Cap\\HEROMOTOCO  Large_Cap\\HEROMOTOCO  Large_Cap        -0.000570   \n",
       "\n",
       "                      meanDailySTD  meanAnnualReturn  meanAnnualSTD    Sharpe  \n",
       "Name                                                                           \n",
       "Large_Cap\\HINDUNILVR      0.012211          0.298772       0.193846  1.541285  \n",
       "Large_Cap\\ASIANPAINT      0.013181          0.097791       0.209249  0.467343  \n",
       "Large_Cap\\ITC             0.014136          0.045743       0.224401  0.203843  \n",
       "Large_Cap\\MARUTI          0.014174          0.003921       0.225002  0.017426  \n",
       "Large_Cap\\HEROMOTOCO      0.015064         -0.143545       0.239141 -0.600251  "
      ]
     },
     "execution_count": 41,
     "metadata": {},
     "output_type": "execute_result"
    }
   ],
   "source": [
    "portfolio_2 = summary_all.sort_values('meanAnnualSTD',ascending=True).head(5)\n",
    "portfolio_2"
   ]
  },
  {
   "cell_type": "code",
   "execution_count": null,
   "metadata": {},
   "outputs": [],
   "source": []
  }
 ],
 "metadata": {
  "kernelspec": {
   "display_name": "Python 3",
   "language": "python",
   "name": "python3"
  },
  "language_info": {
   "codemirror_mode": {
    "name": "ipython",
    "version": 3
   },
   "file_extension": ".py",
   "mimetype": "text/x-python",
   "name": "python",
   "nbconvert_exporter": "python",
   "pygments_lexer": "ipython3",
   "version": "3.7.6"
  }
 },
 "nbformat": 4,
 "nbformat_minor": 4
}
